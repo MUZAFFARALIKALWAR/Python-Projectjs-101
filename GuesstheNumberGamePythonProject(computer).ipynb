{
  "nbformat": 4,
  "nbformat_minor": 0,
  "metadata": {
    "colab": {
      "provenance": [],
      "authorship_tag": "ABX9TyPuf7Z0wepDnkDUySnV2k7l",
      "include_colab_link": true
    },
    "kernelspec": {
      "name": "python3",
      "display_name": "Python 3"
    },
    "language_info": {
      "name": "python"
    }
  },
  "cells": [
    {
      "cell_type": "markdown",
      "metadata": {
        "id": "view-in-github",
        "colab_type": "text"
      },
      "source": [
        "<a href=\"https://colab.research.google.com/github/MUZAFFARALIKALWAR/Python-Projectjs-101/blob/main/GuesstheNumberGamePythonProject(computer).ipynb\" target=\"_parent\"><img src=\"https://colab.research.google.com/assets/colab-badge.svg\" alt=\"Open In Colab\"/></a>"
      ]
    },
    {
      "cell_type": "markdown",
      "source": [
        "# ** Guess the Number Game Python Project (computer)**::"
      ],
      "metadata": {
        "id": "igo3R_wDyK1N"
      }
    },
    {
      "cell_type": "code",
      "source": [
        "import random\n",
        "\n",
        "print(\"Think of a secret number between 1 and 10! 🤔\")\n",
        "secret_number = int(input(\"Enter your secret number (The computer will try to guess it): \"))\n",
        "\n",
        "computer_guess = random.randint(1, 10)\n",
        "print(f\"Computer's first guess is: {computer_guess}\")\n",
        "\n",
        "while True:\n",
        "    feedback = input(\"Is this guess correct? (higher/lower/correct): \").lower()\n",
        "\n",
        "    if feedback == \"correct\":\n",
        "        print(\"Yay! 🎉 The computer guessed correctly! ✅\")\n",
        "        break  # Exit loop if the guess is correct\n",
        "    elif feedback == \"higher\":\n",
        "        print(\"Too high!\")\n",
        "    elif feedback == \"lower\":\n",
        "        print(\"Too Low!\")\n",
        "    else:\n",
        "        print(\"Invalid input! Please type only 'higher', 'lower', or 'correct'.\")\n",
        "        continue  # Restart loop if input is incorrect\n",
        "\n",
        "    computer_guess = random.randint(1, 10)  # Generate a new guess\n",
        "    print(f\"Computer's new guess is: {computer_guess}\")\n"
      ],
      "metadata": {
        "colab": {
          "base_uri": "https://localhost:8080/"
        },
        "id": "oXdLrTa2zssb",
        "outputId": "e43f9699-2672-4c3f-c4d5-acc36e76b32a"
      },
      "execution_count": 3,
      "outputs": [
        {
          "output_type": "stream",
          "name": "stdout",
          "text": [
            "Think of a secret number between 1 and 10! 🤔\n",
            "Enter your secret number (The computer will try to guess it): 2\n",
            "Computer's first guess is: 3\n",
            "Is this guess correct? (higher/lower/correct): higher\n",
            "Too high!\n",
            "Computer's new guess is: 1\n",
            "Is this guess correct? (higher/lower/correct): lower\n",
            "Too Low!\n",
            "Computer's new guess is: 8\n",
            "Is this guess correct? (higher/lower/correct): higher\n",
            "Too high!\n",
            "Computer's new guess is: 9\n",
            "Is this guess correct? (higher/lower/correct): higher\n",
            "Too high!\n",
            "Computer's new guess is: 3\n",
            "Is this guess correct? (higher/lower/correct): higher\n",
            "Too high!\n",
            "Computer's new guess is: 9\n",
            "Is this guess correct? (higher/lower/correct): higher\n",
            "Too high!\n",
            "Computer's new guess is: 6\n",
            "Is this guess correct? (higher/lower/correct): higher\n",
            "Too high!\n",
            "Computer's new guess is: 8\n",
            "Is this guess correct? (higher/lower/correct): higher\n",
            "Too high!\n",
            "Computer's new guess is: 5\n",
            "Is this guess correct? (higher/lower/correct): higher\n",
            "Too high!\n",
            "Computer's new guess is: 5\n",
            "Is this guess correct? (higher/lower/correct): higher\n",
            "Too high!\n",
            "Computer's new guess is: 1\n",
            "Is this guess correct? (higher/lower/correct): lower\n",
            "Too Low!\n",
            "Computer's new guess is: 8\n",
            "Is this guess correct? (higher/lower/correct): higher\n",
            "Too high!\n",
            "Computer's new guess is: 6\n",
            "Is this guess correct? (higher/lower/correct): corksk\n",
            "Invalid input! Please type only 'higher', 'lower', or 'correct'.\n",
            "Is this guess correct? (higher/lower/correct): correct\n",
            "Yay! 🎉 The computer guessed correctly! ✅\n"
          ]
        }
      ]
    }
  ]
}