{
  "nbformat": 4,
  "nbformat_minor": 0,
  "metadata": {
    "colab": {
      "provenance": [],
      "authorship_tag": "ABX9TyOOCOlZgdGL1Jfr8L+QOAfr",
      "include_colab_link": true
    },
    "kernelspec": {
      "name": "python3",
      "display_name": "Python 3"
    },
    "language_info": {
      "name": "python"
    }
  },
  "cells": [
    {
      "cell_type": "markdown",
      "metadata": {
        "id": "view-in-github",
        "colab_type": "text"
      },
      "source": [
        "<a href=\"https://colab.research.google.com/github/MUZAFFARALIKALWAR/Python-Projectjs-101/blob/main/GuesstheNumberGame(User).ipynb\" target=\"_parent\"><img src=\"https://colab.research.google.com/assets/colab-badge.svg\" alt=\"Open In Colab\"/></a>"
      ]
    },
    {
      "cell_type": "markdown",
      "source": [
        "# **GuesstheNumberGame(User)**"
      ],
      "metadata": {
        "id": "whkSx0OEQ_HN"
      }
    },
    {
      "cell_type": "code",
      "source": [
        "import random\n",
        "secret_number = random.randint(1, 10)\n",
        "print(\"The computer has thought of a secret number! 🧠 Now, try to guess it! 🔢\")\n",
        "while True:\n",
        "    user_guess = int(input(\"Enter your guess (1-10): \"))\n",
        "    if user_guess == secret_number:\n",
        "        print(\"Bingo! 🎉 You guessed it right! ✅\")\n",
        "        break\n",
        "    elif user_guess > secret_number:\n",
        "        print(\"Think smaller! 📉\")\n",
        "    else:\n",
        "        print(\"Think bigger! 📈\")"
      ],
      "metadata": {
        "colab": {
          "base_uri": "https://localhost:8080/"
        },
        "id": "3ukuh82JRH0E",
        "outputId": "80745619-0dc5-49b2-b72c-37d848c60887"
      },
      "execution_count": 5,
      "outputs": [
        {
          "output_type": "stream",
          "name": "stdout",
          "text": [
            "The computer has thought of a secret number! 🧠 Now, try to guess it! 🔢\n",
            "Enter your guess (1-10): 1\n",
            "Think bigger! 📈\n",
            "Enter your guess (1-10): 4\n",
            "Think bigger! 📈\n",
            "Enter your guess (1-10): 7\n",
            "Bingo! 🎉 You guessed it right! ✅\n"
          ]
        }
      ]
    }
  ]
}