{
  "nbformat": 4,
  "nbformat_minor": 0,
  "metadata": {
    "colab": {
      "provenance": [],
      "authorship_tag": "ABX9TyPJFbHWfOD85soXscyhaYKs",
      "include_colab_link": true
    },
    "kernelspec": {
      "name": "python3",
      "display_name": "Python 3"
    },
    "language_info": {
      "name": "python"
    }
  },
  "cells": [
    {
      "cell_type": "markdown",
      "metadata": {
        "id": "view-in-github",
        "colab_type": "text"
      },
      "source": [
        "<a href=\"https://colab.research.google.com/github/MUZAFFARALIKALWAR/Python-Projectjs-101/blob/main/Rock%2Cpaper%2CscissorsPythonProject.ipynb\" target=\"_parent\"><img src=\"https://colab.research.google.com/assets/colab-badge.svg\" alt=\"Open In Colab\"/></a>"
      ]
    },
    {
      "cell_type": "markdown",
      "source": [
        "# **Rock, paper, scissors Python Project**"
      ],
      "metadata": {
        "id": "NvLXM3QrI8WM"
      }
    },
    {
      "cell_type": "code",
      "source": [
        "import random\n",
        "\n",
        "choices = [\"rock\", \"paper\", \"scissors\"]\n",
        "\n",
        "while True:\n",
        "\n",
        "    user_choice = input(\"Choose Rock, Paper, or Scissors: \").lower()\n",
        "\n",
        "    if user_choice not in choices:\n",
        "        print(\"Invalid choice! Please enter only Rock, Paper, or Scissors! ❌\")\n",
        "        continue\n",
        "\n",
        "    computer_choice = random.choice(choices)\n",
        "    print(f\"Computer chose: {computer_choice}\")\n",
        "\n",
        "    if user_choice == computer_choice:\n",
        "        print(\"Match Draw! 🤝 Both chose the same!\")\n",
        "    elif (user_choice == \"rock\" and computer_choice == \"scissors\") or \\\n",
        "         (user_choice == \"paper\" and computer_choice == \"rock\") or \\\n",
        "         (user_choice == \"scissors\" and computer_choice == \"paper\"):\n",
        "        print(\"You win! 🎉\")\n",
        "    else:\n",
        "        print(\"Computer wins! 😢\")\n",
        "\n",
        "\n",
        "    play_again = input(\"Do you want to play again? (yes/no): \").lower()\n",
        "    if play_again != \"yes\":\n",
        "        print(\"Thanks for playing! 👋\")\n",
        "        break  # Exit the loop\n"
      ],
      "metadata": {
        "colab": {
          "base_uri": "https://localhost:8080/"
        },
        "id": "d_wK_RkPJByv",
        "outputId": "d02acd6c-5db0-444a-c18b-007ab8bf1767"
      },
      "execution_count": 27,
      "outputs": [
        {
          "output_type": "stream",
          "name": "stdout",
          "text": [
            "Choose Rock, Paper, or Scissors: rock\n",
            "Computer chose: paper\n",
            "Computer wins! 😢\n",
            "Do you want to play again? (yes/no): yes\n",
            "Choose Rock, Paper, or Scissors: rock\n",
            "Computer chose: paper\n",
            "Computer wins! 😢\n",
            "Do you want to play again? (yes/no): yes\n",
            "Choose Rock, Paper, or Scissors: paper\n",
            "Computer chose: rock\n",
            "You win! 🎉\n",
            "Do you want to play again? (yes/no): no\n",
            "Thanks for playing! 👋\n"
          ]
        }
      ]
    }
  ]
}