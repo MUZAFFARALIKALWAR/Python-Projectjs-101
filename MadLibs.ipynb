{
  "nbformat": 4,
  "nbformat_minor": 0,
  "metadata": {
    "colab": {
      "provenance": [],
      "authorship_tag": "ABX9TyOM6R7ASW91sAKxW703fPUG",
      "include_colab_link": true
    },
    "kernelspec": {
      "name": "python3",
      "display_name": "Python 3"
    },
    "language_info": {
      "name": "python"
    }
  },
  "cells": [
    {
      "cell_type": "markdown",
      "metadata": {
        "id": "view-in-github",
        "colab_type": "text"
      },
      "source": [
        "<a href=\"https://colab.research.google.com/github/MUZAFFARALIKALWAR/Python-Projectjs-101/blob/main/MadLibs.ipynb\" target=\"_parent\"><img src=\"https://colab.research.google.com/assets/colab-badge.svg\" alt=\"Open In Colab\"/></a>"
      ]
    },
    {
      "cell_type": "markdown",
      "source": [
        "# **Mad Libs Game #01**"
      ],
      "metadata": {
        "id": "zQx0DfKZlZwx"
      }
    },
    {
      "cell_type": "code",
      "source": [
        "name = input(\"Enter your name: \")\n",
        "place = input(\"Enter a place name: \")\n",
        "animal = input(\"Enter an animal name: \")\n",
        "verb = input(\"Enter an action (verb): \")\n",
        "adjective = input(\"Enter an adjective: \")\n",
        "\n",
        "print(\"\\nAll inputs are saved! ✅\")\n",
        "\n",
        "story = f\"One day, {name} went to {place}. There, they saw a {adjective} {animal} that was {verb}. Seeing this, {name} was very surprised!\"\n",
        "\n",
        "print(\"\\nHere is your funny story: 🎉\\n\")\n",
        "print(story)"
      ],
      "metadata": {
        "colab": {
          "base_uri": "https://localhost:8080/"
        },
        "id": "jtbWeIorljSh",
        "outputId": "610ad8d1-68b7-42a4-e51a-a2b78077c19d"
      },
      "execution_count": null,
      "outputs": [
        {
          "output_type": "stream",
          "name": "stdout",
          "text": [
            "Enter your name: Muzaffar\n",
            "Enter a place name: Karachi\n",
            "Enter an animal name: Tiger\n",
            "Enter an action (verb): running\n",
            "Enter an adjective: Fast\n",
            "\n",
            "All inputs are saved! ✅\n",
            "\n",
            "Here is your funny story: 🎉\n",
            "\n",
            "One day, Muzaffar went to Karachi. There, they saw a Fast Tiger that was running. Seeing this, Muzaffar was very surprised!\n"
          ]
        }
      ]
    }
  ]
}